{
 "cells": [
  {
   "cell_type": "code",
   "execution_count": null,
   "metadata": {},
   "outputs": [],
   "source": [
    "import os\n",
    "import random\n",
    "import string\n",
    "\n",
    "def generate_text_file(file_path, file_size):\n",
    "    try:\n",
    "        with open(file_path, 'w') as file:\n",
    "            remaining_size = file_size\n",
    "            while remaining_size > 0:\n",
    "                chunk_size = min(remaining_size, 1024)\n",
    "                chunk = ''.join(random.choices(string.ascii_letters + ' \\n', k=chunk_size))\n",
    "                file.write(chunk)\n",
    "                remaining_size -= chunk_size\n",
    "        \n",
    "        actual_size = os.path.getsize(file_path)\n",
    "        if actual_size != file_size:\n",
    "            print(f\"Warning: Expected size {file_size} bytes, but got {actual_size} bytes for {file_path}\")\n",
    "    except Exception as e:\n",
    "        print(f\"Error generating file {file_path}: {e}\")\n",
    "\n",
    "script_dir = os.path.dirname(os.path.abspath(__file__))\n",
    "\n",
    "file_sizes = [2*1024, 2*1024*1024, 2*1024*1024*1024]  # 2KB, 2MB, 2GB\n",
    "\n",
    "for size in file_sizes:\n",
    "    file_path = os.path.join(script_dir, f\"file_{size}.txt\")\n",
    "    print(f\"Generating file: {file_path} with size {size} bytes\")\n",
    "    generate_text_file(file_path, size)\n",
    "    print(f\"File generated: {file_path}\")\n"
   ]
  }
 ],
 "metadata": {
  "language_info": {
   "name": "python"
  }
 },
 "nbformat": 4,
 "nbformat_minor": 2
}
