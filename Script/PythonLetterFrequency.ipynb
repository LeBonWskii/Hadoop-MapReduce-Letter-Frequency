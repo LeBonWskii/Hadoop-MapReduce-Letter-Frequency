{
 "cells": [
  {
   "cell_type": "code",
   "execution_count": 3,
   "metadata": {},
   "outputs": [
    {
     "name": "stdout",
     "output_type": "stream",
     "text": [
      "Risultati salvati in ../Resources/PythonExecution/Output/file_2KB\\PythonExecution_file_2KB.txt\n",
      "Conteggio totale delle lettere salvato in ../Resources/PythonExecution/Output/file_2KB\\count.txt\n",
      "Frequenza delle lettere salvata in ../Resources/PythonExecution/Output/file_2KB\\frequency.txt\n",
      "Risultati salvati in ../Resources/PythonExecution/Output/file_2MB\\PythonExecution_file_2MB.txt\n",
      "Conteggio totale delle lettere salvato in ../Resources/PythonExecution/Output/file_2MB\\count.txt\n",
      "Frequenza delle lettere salvata in ../Resources/PythonExecution/Output/file_2MB\\frequency.txt\n"
     ]
    },
    {
     "ename": "KeyboardInterrupt",
     "evalue": "",
     "output_type": "error",
     "traceback": [
      "\u001b[1;31m---------------------------------------------------------------------------\u001b[0m",
      "\u001b[1;31mKeyboardInterrupt\u001b[0m                         Traceback (most recent call last)",
      "Cell \u001b[1;32mIn[3], line 74\u001b[0m\n\u001b[0;32m     67\u001b[0m files_to_process \u001b[38;5;241m=\u001b[39m [\n\u001b[0;32m     68\u001b[0m     (\u001b[38;5;124m\"\u001b[39m\u001b[38;5;124mfile_2KB\u001b[39m\u001b[38;5;124m\"\u001b[39m, \u001b[38;5;124m\"\u001b[39m\u001b[38;5;124m../Resources/Performance/Input/file_2KB.txt\u001b[39m\u001b[38;5;124m\"\u001b[39m),\n\u001b[0;32m     69\u001b[0m     (\u001b[38;5;124m\"\u001b[39m\u001b[38;5;124mfile_2MB\u001b[39m\u001b[38;5;124m\"\u001b[39m, \u001b[38;5;124m\"\u001b[39m\u001b[38;5;124m../Resources/Performance/Input/file_2MB.txt\u001b[39m\u001b[38;5;124m\"\u001b[39m),\n\u001b[0;32m     70\u001b[0m     (\u001b[38;5;124m\"\u001b[39m\u001b[38;5;124mfile_2GB\u001b[39m\u001b[38;5;124m\"\u001b[39m, \u001b[38;5;124m\"\u001b[39m\u001b[38;5;124m../../file_2GB.txt\u001b[39m\u001b[38;5;124m\"\u001b[39m)\n\u001b[0;32m     71\u001b[0m ]\n\u001b[0;32m     73\u001b[0m \u001b[38;5;28;01mfor\u001b[39;00m file_size, file_path \u001b[38;5;129;01min\u001b[39;00m files_to_process:\n\u001b[1;32m---> 74\u001b[0m     \u001b[43mmeasure_performance\u001b[49m\u001b[43m(\u001b[49m\u001b[43mfile_path\u001b[49m\u001b[43m,\u001b[49m\u001b[43m \u001b[49m\u001b[43mfile_size\u001b[49m\u001b[43m,\u001b[49m\u001b[43m \u001b[49m\u001b[43moutput_directory\u001b[49m\u001b[43m)\u001b[49m\n",
      "Cell \u001b[1;32mIn[3], line 27\u001b[0m, in \u001b[0;36mmeasure_performance\u001b[1;34m(file_path, file_size, output_dir)\u001b[0m\n\u001b[0;32m     25\u001b[0m start_time \u001b[38;5;241m=\u001b[39m time\u001b[38;5;241m.\u001b[39mtime()\n\u001b[0;32m     26\u001b[0m start_cpu \u001b[38;5;241m=\u001b[39m time\u001b[38;5;241m.\u001b[39mprocess_time()\n\u001b[1;32m---> 27\u001b[0m mem_usage \u001b[38;5;241m=\u001b[39m \u001b[43mmemory_usage\u001b[49m\u001b[43m(\u001b[49m\u001b[43m(\u001b[49m\u001b[43mcalculate_letter_frequency\u001b[49m\u001b[43m,\u001b[49m\u001b[43m \u001b[49m\u001b[43m(\u001b[49m\u001b[43mfile_path\u001b[49m\u001b[43m,\u001b[49m\u001b[43m)\u001b[49m\u001b[43m)\u001b[49m\u001b[43m,\u001b[49m\u001b[43m \u001b[49m\u001b[43minterval\u001b[49m\u001b[38;5;241;43m=\u001b[39;49m\u001b[38;5;241;43m0.1\u001b[39;49m\u001b[43m)\u001b[49m\n\u001b[0;32m     28\u001b[0m process \u001b[38;5;241m=\u001b[39m psutil\u001b[38;5;241m.\u001b[39mProcess()  \u001b[38;5;66;03m# Ottiene l'oggetto processo corrente\u001b[39;00m\n\u001b[0;32m     29\u001b[0m mem_before \u001b[38;5;241m=\u001b[39m process\u001b[38;5;241m.\u001b[39mmemory_info()\u001b[38;5;241m.\u001b[39mrss  \u001b[38;5;66;03m# Memoria fisica prima dell'esecuzione\u001b[39;00m\n",
      "File \u001b[1;32mc:\\Users\\tomma\\AppData\\Local\\Programs\\Python\\Python311\\Lib\\site-packages\\memory_profiler.py:379\u001b[0m, in \u001b[0;36mmemory_usage\u001b[1;34m(proc, interval, timeout, timestamps, include_children, multiprocess, max_usage, retval, stream, backend, max_iterations)\u001b[0m\n\u001b[0;32m    376\u001b[0m \u001b[38;5;66;03m# When there is an exception in the \"proc\" - the (spawned) monitoring processes don't get killed.\u001b[39;00m\n\u001b[0;32m    377\u001b[0m \u001b[38;5;66;03m# Therefore, the whole process hangs indefinitely. Here, we are ensuring that the process gets killed!\u001b[39;00m\n\u001b[0;32m    378\u001b[0m \u001b[38;5;28;01mtry\u001b[39;00m:\n\u001b[1;32m--> 379\u001b[0m     returned \u001b[38;5;241m=\u001b[39m \u001b[43mf\u001b[49m\u001b[43m(\u001b[49m\u001b[38;5;241;43m*\u001b[39;49m\u001b[43margs\u001b[49m\u001b[43m,\u001b[49m\u001b[43m \u001b[49m\u001b[38;5;241;43m*\u001b[39;49m\u001b[38;5;241;43m*\u001b[39;49m\u001b[43mkw\u001b[49m\u001b[43m)\u001b[49m\n\u001b[0;32m    380\u001b[0m     parent_conn\u001b[38;5;241m.\u001b[39msend(\u001b[38;5;241m0\u001b[39m)  \u001b[38;5;66;03m# finish timing\u001b[39;00m\n\u001b[0;32m    381\u001b[0m     ret \u001b[38;5;241m=\u001b[39m parent_conn\u001b[38;5;241m.\u001b[39mrecv()\n",
      "Cell \u001b[1;32mIn[3], line 17\u001b[0m, in \u001b[0;36mcalculate_letter_frequency\u001b[1;34m(file_path)\u001b[0m\n\u001b[0;32m     15\u001b[0m letter_frequency \u001b[38;5;241m=\u001b[39m Counter()\n\u001b[0;32m     16\u001b[0m \u001b[38;5;28;01mwith\u001b[39;00m \u001b[38;5;28mopen\u001b[39m(file_path, \u001b[38;5;124m'\u001b[39m\u001b[38;5;124mr\u001b[39m\u001b[38;5;124m'\u001b[39m, encoding\u001b[38;5;241m=\u001b[39m\u001b[38;5;124m'\u001b[39m\u001b[38;5;124mutf-8\u001b[39m\u001b[38;5;124m'\u001b[39m) \u001b[38;5;28;01mas\u001b[39;00m file:\n\u001b[1;32m---> 17\u001b[0m \u001b[43m    \u001b[49m\u001b[38;5;28;43;01mfor\u001b[39;49;00m\u001b[43m \u001b[49m\u001b[43mline\u001b[49m\u001b[43m \u001b[49m\u001b[38;5;129;43;01min\u001b[39;49;00m\u001b[43m \u001b[49m\u001b[43mfile\u001b[49m\u001b[43m:\u001b[49m\n\u001b[0;32m     18\u001b[0m \u001b[43m        \u001b[49m\u001b[43mnormalized_text\u001b[49m\u001b[43m \u001b[49m\u001b[38;5;241;43m=\u001b[39;49m\u001b[43m \u001b[49m\u001b[43mnormalize_text\u001b[49m\u001b[43m(\u001b[49m\u001b[43mline\u001b[49m\u001b[43m)\u001b[49m\n\u001b[0;32m     19\u001b[0m \u001b[43m        \u001b[49m\u001b[43mletter_frequency\u001b[49m\u001b[38;5;241;43m.\u001b[39;49m\u001b[43mupdate\u001b[49m\u001b[43m(\u001b[49m\u001b[43mCounter\u001b[49m\u001b[43m(\u001b[49m\u001b[43mnormalized_text\u001b[49m\u001b[43m)\u001b[49m\u001b[43m)\u001b[49m\n",
      "File \u001b[1;32m<frozen codecs>:319\u001b[0m, in \u001b[0;36mdecode\u001b[1;34m(self, input, final)\u001b[0m\n",
      "\u001b[1;31mKeyboardInterrupt\u001b[0m: "
     ]
    }
   ],
   "source": [
    "import os\n",
    "import time\n",
    "import unicodedata\n",
    "from collections import Counter\n",
    "from memory_profiler import memory_usage\n",
    "\n",
    "def normalize_text(text):\n",
    "    normalized = unicodedata.normalize('NFD', text)\n",
    "    filtered = ''.join(c for c in normalized if unicodedata.category(c) != 'Mn')\n",
    "    only_alpha = ''.join(filter(str.isalpha, filtered))\n",
    "    return only_alpha.lower()\n",
    "\n",
    "def calculate_letter_frequency(file_path):\n",
    "    letter_frequency = Counter()\n",
    "    with open(file_path, 'r', encoding='utf-8') as file:\n",
    "        for line in file:\n",
    "            normalized_text = normalize_text(line)\n",
    "            letter_frequency.update(Counter(normalized_text))\n",
    "    total_letters = sum(letter_frequency.values())\n",
    "    \n",
    "    # Calcolo della frequenza come occorrenzeTotaliDellaLettera / numeroLettereTotali\n",
    "    letter_frequency = {letter: freq / total_letters for letter, freq in letter_frequency.items()}\n",
    "    \n",
    "    return letter_frequency, total_letters\n",
    "\n",
    "def measure_performance(file_path, file_size, output_dir):\n",
    "    start_time = time.time()\n",
    "    start_cpu = time.process_time()\n",
    "    mem_usage = memory_usage((calculate_letter_frequency, (file_path,)), interval=0.1)\n",
    "    letter_frequency, total_letters = calculate_letter_frequency(file_path)\n",
    "    end_time = time.time()\n",
    "    end_cpu = time.process_time()\n",
    "    \n",
    "    execution_time_ms = (end_time - start_time) * 1000\n",
    "    cpu_time_ms = (end_cpu - start_cpu) * 1000\n",
    "    max_memory_bytes = max(mem_usage) * (1024 ** 2)\n",
    "    \n",
    "    results = f\"Dimensione file: {file_size}\\nTempo di esecuzione: {execution_time_ms:.2f} ms\\nTempo di CPU: {cpu_time_ms:.2f} ms\\nMemoria massima utilizzata: {max_memory_bytes:.0f} bytes\\n\\n\"\n",
    "    \n",
    "    specific_output_dir = os.path.join(output_dir, file_size)\n",
    "    os.makedirs(specific_output_dir, exist_ok=True)\n",
    "    \n",
    "    # Salvataggio dei risultati di esecuzione\n",
    "    execution_output_file = f\"PythonExecution_{file_size}.txt\"\n",
    "    execution_full_output_path = os.path.join(specific_output_dir, execution_output_file)\n",
    "    with open(execution_full_output_path, \"w\") as file:\n",
    "        file.write(results)\n",
    "    \n",
    "    # Salvataggio del conteggio totale delle lettere\n",
    "    total_letters_file = f\"count.txt\"\n",
    "    total_letters_path = os.path.join(specific_output_dir, total_letters_file)\n",
    "    with open(total_letters_path, \"w\") as file:\n",
    "        file.write(f\"Conteggio totale delle lettere: {total_letters}\\n\")\n",
    "    \n",
    "    # Salvataggio della frequenza di ogni lettera\n",
    "    frequency_file = f\"frequency.txt\"\n",
    "    frequency_path = os.path.join(specific_output_dir, frequency_file)\n",
    "    with open(frequency_path, \"w\") as file:\n",
    "        for letter, freq in letter_frequency.items():\n",
    "            file.write(f\"{letter}: {freq}\\n\")\n",
    "    \n",
    "    print(f\"Risultati salvati in {execution_full_output_path}\")\n",
    "    print(f\"Conteggio totale delle lettere salvato in {total_letters_path}\")\n",
    "    print(f\"Frequenza delle lettere salvata in {frequency_path}\")\n",
    "\n",
    "output_directory = \"../Resources/PythonExecution/Output/\"\n",
    "\n",
    "files_to_process = [\n",
    "    (\"file_2KB\", \"../Resources/Performance/Input/file_2KB.txt\"),\n",
    "    (\"file_2MB\", \"../Resources/Performance/Input/file_2MB.txt\"),\n",
    "    (\"file_2GB\", \"../../file_2GB.txt\")\n",
    "]\n",
    "\n",
    "for file_size, file_path in files_to_process:\n",
    "    measure_performance(file_path, file_size, output_directory)"
   ]
  }
 ],
 "metadata": {
  "kernelspec": {
   "display_name": "Python 3",
   "language": "python",
   "name": "python3"
  },
  "language_info": {
   "codemirror_mode": {
    "name": "ipython",
    "version": 3
   },
   "file_extension": ".py",
   "mimetype": "text/x-python",
   "name": "python",
   "nbconvert_exporter": "python",
   "pygments_lexer": "ipython3",
   "version": "3.11.0"
  }
 },
 "nbformat": 4,
 "nbformat_minor": 2
}
